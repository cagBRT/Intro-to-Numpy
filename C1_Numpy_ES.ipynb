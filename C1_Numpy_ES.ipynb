{
  "nbformat": 4,
  "nbformat_minor": 0,
  "metadata": {
    "colab": {
      "private_outputs": true,
      "provenance": []
    },
    "kernelspec": {
      "name": "python3",
      "display_name": "Python 3"
    }
  },
  "cells": [
    {
      "cell_type": "markdown",
      "metadata": {
        "id": "BSJ9iodRDBy3"
      },
      "source": [
        "https://numpy.org/devdocs/reference/routines.array-manipulation.html\n"
      ]
    },
    {
      "cell_type": "code",
      "metadata": {
        "id": "TjSiDTp8OPDh"
      },
      "source": [
        "# Clona el repositorio completo\n",
        "!git clone -l -s https://github.com/cagBRT/Intro-to-Numpy.git cloned-repo\n",
        "%cd cloned-repo\n",
        "!ls"
      ],
      "execution_count": null,
      "outputs": []
    },
    {
      "cell_type": "code",
      "metadata": {
        "id": "mNAuoEKXObDq"
      },
      "source": [
        "from IPython.display import Image\n",
        "def page(num):\n",
        "    return Image(\"c8-content/c8PythonProgramming\"+str(num)+ \".png\" , width=640)"
      ],
      "execution_count": null,
      "outputs": []
    },
    {
      "cell_type": "markdown",
      "metadata": {
        "id": "Ea0lLVQgPEni"
      },
      "source": [
        "# **Arreglos (array) de Numpy**\n",
        "\n",
        "Debemos recordar que Python no tiene arreglos. Aun así, los arreglos son sumament convenientes y poderosos.\n",
        "\n",
        "Para usar arreglos en Python, podemos importar Numpy\n",
        "\n",
        "Numpy es la librería base para la computación científica en Python. Nos provee con un arreglo multidimensional de alto rendimiento, así como herramientas para trabajar con estos arreglos.\n",
        "<br><br>\n",
        "Los elementos de un arreglo de NumPy, o simplemente arreglo, son normalmente numéricos, pero pueden ser también boleanos, strings u otro tipo de objetos. *Cuando los elementos son números todo deben de ser del mismo tipo. Por ejemplo, deben de ser todos enteros o números de punto flotante (float)*\n",
        "<br><br>\n",
        "Los arreglos de NumPy ocupan una cantidad de memoria significativamente menor comparada con las listas de python."
      ]
    },
    {
      "cell_type": "markdown",
      "metadata": {
        "id": "co8iDTDq9ht2"
      },
      "source": [
        "# **Importa Numpy**"
      ]
    },
    {
      "cell_type": "code",
      "metadata": {
        "id": "LMN5o9tAAg2m"
      },
      "source": [
        "import numpy as np"
      ],
      "execution_count": null,
      "outputs": []
    },
    {
      "cell_type": "markdown",
      "metadata": {
        "id": "LWPa_w1u90K1"
      },
      "source": [
        "# **Crea un Arreglo**"
      ]
    },
    {
      "cell_type": "code",
      "metadata": {
        "id": "JleIKOu1PH1O"
      },
      "source": [
        "#Crea un arreglo de 2 renglones y 3 columnas\n",
        "a = np.array([[1, 2, 3],[2,4,6]])   \n",
        "print(type(a))           \n",
        "print(a.shape)            "
      ],
      "execution_count": null,
      "outputs": []
    },
    {
      "cell_type": "markdown",
      "metadata": {
        "id": "Wp3xqJzxAobK"
      },
      "source": [
        "**Imprime el arreglo**"
      ]
    },
    {
      "cell_type": "code",
      "metadata": {
        "id": "cjOy4Us09r_3"
      },
      "source": [
        "print(a)  "
      ],
      "execution_count": null,
      "outputs": []
    },
    {
      "cell_type": "markdown",
      "metadata": {
        "id": "rAYt4lilAsJU"
      },
      "source": [
        "**Modifica un valor en el arreglo**<br>\n",
        "\n",
        "Existen dos maneras para acceder a un valor en un arreglo Numpy<br>\n",
        "\n",
        ">nombre_de_arreglo[numero de renglon, numero de columna]\n",
        ">nombre_de_arreglo[numero de renglon][numero de columna]"
      ]
    },
    {
      "cell_type": "code",
      "metadata": {
        "id": "7qnDiYNNABcQ"
      },
      "source": [
        "\n",
        "#Cambia el valor en la locacion (0,0)\n",
        "a[0][0] = 5                  \n",
        "print(a)     \n",
        "print(\"\")\n",
        "#Cambia el valor en la locacion (1,1)\n",
        "a[1][1] = 44\n",
        "print(a)"
      ],
      "execution_count": null,
      "outputs": []
    },
    {
      "cell_type": "markdown",
      "metadata": {
        "id": "BrYYEDl3BQLj"
      },
      "source": [
        "# **Actividad #1**\n",
        "\n",
        "1. Crea un arreglo de numpy 4x4\n",
        "2. Imprime los valores en (0,0)(1,1)(2,2)(3,3)\n"
      ]
    },
    {
      "cell_type": "code",
      "metadata": {
        "id": "KEH4AQOpAMNi"
      },
      "source": [
        "#Actividad #1\n"
      ],
      "execution_count": null,
      "outputs": []
    },
    {
      "cell_type": "markdown",
      "metadata": {
        "id": "8YYL6KLICGxr"
      },
      "source": [
        "# **Crea arreglos llenos**\n",
        "\n",
        "Numpy permite la creación de arreglos rellenos con ceros, unos, un numero especifico, una matriz identidad, o un array lleno de números aleatorios"
      ]
    },
    {
      "cell_type": "markdown",
      "metadata": {
        "id": "fr723zJPCiA4"
      },
      "source": [
        "**Un arreglo con solo ceros**<br>\n",
        "np.zeros((number of rows, number of columns))"
      ]
    },
    {
      "cell_type": "code",
      "metadata": {
        "id": "MWMJWj6SPYHz"
      },
      "source": [
        "a = np.zeros((7,9))   \n",
        "print(a)              "
      ],
      "execution_count": null,
      "outputs": []
    },
    {
      "cell_type": "markdown",
      "metadata": {
        "id": "cyXOmqZSCzbg"
      },
      "source": [
        "**Un arreglo con solo unos**<br>\n",
        "np.ones((number of rows, number of columns))"
      ]
    },
    {
      "cell_type": "code",
      "metadata": {
        "id": "I8yckXesCtPo"
      },
      "source": [
        "b = np.ones((5,4))    \n",
        "print(b)              \n"
      ],
      "execution_count": null,
      "outputs": []
    },
    {
      "cell_type": "markdown",
      "metadata": {
        "id": "1pDidx27C9Hj"
      },
      "source": [
        "Arreglos de: <br>\n",
        ">Un número específico<br>\n",
        ">>np.full((no. of rows, no of col), number for filling)<br>\n",
        "<br>\n",
        "\n",
        ">Una matriz identidad<br>\n",
        ">>np.eye(matrix dimension)<br>\n",
        "<br>\n",
        "\n",
        ">Números aleatorios\n",
        ">>np.random.random((no. of rows, no of col))\n"
      ]
    },
    {
      "cell_type": "markdown",
      "metadata": {
        "id": "zwJ1qDFyECnU"
      },
      "source": [
        "# **Actividad #2**\n",
        "Crea e imprime los siguientes arrays<br>\n",
        "1. Un arreglo 12x10 relleno con el número 45.333\n",
        "2. Una matriz identidad 25x25 \n",
        "3. Un arreglo 12x30 relleno con números aleatorios."
      ]
    },
    {
      "cell_type": "code",
      "metadata": {
        "id": "Ai8a7LZ1C9on"
      },
      "source": [],
      "execution_count": null,
      "outputs": []
    },
    {
      "cell_type": "markdown",
      "metadata": {
        "id": "oYqvYl6zEm9x"
      },
      "source": [
        "# **Partir un arreglo**\n",
        "Los arreglos de numpy pueden ser partidos en arreglos más pequeños de diferentes tamaños"
      ]
    },
    {
      "cell_type": "code",
      "metadata": {
        "id": "eVA3DXHCPz3l"
      },
      "source": [
        "#Partiendo un arreglo\n",
        "\n",
        "#Crea un arreglo con el siguiente tamaño y valores\n",
        "# [[ 1  2  3  4]\n",
        "#  [ 5  6  7  8]\n",
        "#  [ 9 10 11 12]\n",
        "#  [13 14 15 16]]\n",
        "a = np.array([[1,2,3,4], [5,6,7,8], [9,10,11,12], [13,14,15,16]])\n",
        "print(a)\n"
      ],
      "execution_count": null,
      "outputs": []
    },
    {
      "cell_type": "markdown",
      "metadata": {
        "id": "tRzQqZaOGN9h"
      },
      "source": [
        "**Parte el arreglo**<br>\n",
        "Parte el arreglo de la siguiente manera \n",
        "nuevo_arreglo = arreglo_original[primer renglon:ultimo renglon, primera columna: ultima columna]"
      ]
    },
    {
      "cell_type": "code",
      "metadata": {
        "id": "7iWWIe-RF3Du"
      },
      "source": [
        "#Crea un nuevo arreglo con los valores del centro de la matriz\n",
        "#[[6   7]\n",
        "# [10 11]]\n",
        "\n",
        "b = a[1:3, 1:3]\n",
        "print(b)"
      ],
      "execution_count": null,
      "outputs": []
    },
    {
      "cell_type": "markdown",
      "metadata": {
        "id": "dV--1z87G45k"
      },
      "source": [
        "**Los arreglos partidos se modifican cuando el nuevo arreglo o el arreglo original son modificados**"
      ]
    },
    {
      "cell_type": "code",
      "metadata": {
        "id": "by7vJEH2G9q5"
      },
      "source": [
        "print(a)\n",
        "print(\"\")\n",
        "\n",
        "#Cambia un valor en el nuevo arreglo\n",
        "b[0,0] = -22\n",
        "\n",
        "#Mira como que el valor de b ha sido cambiado \n",
        "#Y el valor en a tambien\n",
        "print(a)"
      ],
      "execution_count": null,
      "outputs": []
    },
    {
      "cell_type": "code",
      "metadata": {
        "id": "WgyV-mnuHxSL"
      },
      "source": [
        "print(b)\n",
        "print(\"\")\n",
        "\n",
        "#Cambia un valor en el arreglo original\n",
        "a[1,1] = -8888\n",
        "\n",
        "#Mira como que el valor de a ha sido cambiado \n",
        "#Y el valor en b tambien\n",
        "print(b)"
      ],
      "execution_count": null,
      "outputs": []
    },
    {
      "cell_type": "markdown",
      "metadata": {
        "id": "-EA4-TPpOqrB"
      },
      "source": [
        "# **Actividad #3**\n",
        "1. Crea el siguiente arreglo \n",
        ">[2,6,9,12]<br>\n",
        ">[5,1,1,8]<br>\n",
        ">[7,7,5,9]<br>\n",
        ">[8,9,5,2]<br>\n",
        "\n",
        "\n",
        "2. Parte el arreglo en dos arreglos (no superpuestos) de 4x2\n",
        "3. Cambia 5 valores en el arreglo original\n",
        "4. Imprime los 2 nuevos arreglos, revisa que los valores hayan cambiado."
      ]
    },
    {
      "cell_type": "code",
      "metadata": {
        "id": "exrSemIVGup-"
      },
      "source": [
        "#Actividad #3\n",
        "\n",
        "a = np.array([[2,6,9,12], [5,1,1,8], [7,7,5,9], [8,9,5,2]])\n",
        "print(a)"
      ],
      "execution_count": null,
      "outputs": []
    },
    {
      "cell_type": "code",
      "source": [
        "#@title\n",
        "#Code by Michael Harrington\n",
        "a = np.array([[2,6,9,12], [5,1,1,8], [7,7,5,9], [8,9,5,2]])\n",
        "print(a)\n",
        "a1, a2 = np.hsplit(a, 2)\n",
        "a[0,0] = 10\n",
        "a[2,2] = 14\n",
        "a[1,1] = 17\n",
        "a[3,3] = 19\n",
        "a[1,2] = 23\n",
        "print (a1)\n",
        "print (a2)"
      ],
      "metadata": {
        "cellView": "form",
        "id": "Ai6zz_9TiiAZ"
      },
      "execution_count": null,
      "outputs": []
    },
    {
      "cell_type": "markdown",
      "metadata": {
        "id": "MFoq3lv4er8g"
      },
      "source": [
        "# **Redimensionando(Reshaping) Arreglos**\n",
        " \n",
        "Numpy tiene una función integrada que permite al usario redimensionar los arreglos<br>\n",
        ">nombre_de_arreglo.reshape(numero de renglones, numero de columnas)\n",
        "<br>\n",
        "La nueva forma debe de tener el mismo numero de elementos que forma anterior.\n",
        "<br>\n",
        "Por ejemplo:<br>\n",
        "\n",
        "Si el arreglo tiene una forma de 3x4 (12 elementos) puede redimensionarse a:\n",
        ">12x1<br>\n",
        ">1x12<br>\n",
        ">2x6<br>\n",
        ">6x2<br>\n",
        ">4x3<br>"
      ]
    },
    {
      "cell_type": "code",
      "metadata": {
        "id": "NIIcZjM-fCxj"
      },
      "source": [
        "#Redimensiona a un arreglo\n",
        "#Paso 1: crea un arreglo\n",
        "#Una arange para crear un arreglo de enteros \n",
        "# igualmente espaceados de 0 - 23\n",
        "a = np.arange(24)\n",
        "print(a)\n",
        "#La forma de este arreglo es un vector\n",
        "print(a.shape)\n",
        "#Paso 2: cambia para forma del arreglo a\n",
        "a.reshape(8,3)"
      ],
      "execution_count": null,
      "outputs": []
    },
    {
      "cell_type": "markdown",
      "metadata": {
        "id": "Rnv8gvmGgUa-"
      },
      "source": [
        "# **Actividad #4**\n",
        "1. Crea un arreglo que tenga 32 elementos \n",
        "2. Redimensiona a: \n",
        ">un arreglo de 8x4<br>\n",
        ">un arreglo de 2x16<br>\n"
      ]
    },
    {
      "cell_type": "code",
      "metadata": {
        "id": "SHVpRqyQgqFt"
      },
      "source": [
        "#Actividad #4"
      ],
      "execution_count": null,
      "outputs": []
    },
    {
      "cell_type": "markdown",
      "metadata": {
        "id": "Edbt4uPAgw_6"
      },
      "source": [
        "**Redimensiona un arreglo en 3 o más dimensiones:**\n",
        "\n",
        "Los arreglos también pueden ser redimensionados a múltiples dimensiones. \n",
        "Usa la forma:\n",
        ">nombre_de_arreglo.reshape(dimension 1, no. de renglones, no. de columnas)<br>\n",
        "\n",
        "El criterio respecto al número de elementos aun debe de ser obedecida\n"
      ]
    },
    {
      "cell_type": "markdown",
      "metadata": {
        "id": "vJYDLK47isUJ"
      },
      "source": [
        "# **Actividad #5**\n",
        "1. Crea un arreglo de 72 elementos\n",
        "2. Redimensiona el arreglo en 12x3x2 "
      ]
    },
    {
      "cell_type": "code",
      "metadata": {
        "id": "uOGcwV-vhhUZ"
      },
      "source": [
        "#Actividad #5\n"
      ],
      "execution_count": null,
      "outputs": []
    },
    {
      "cell_type": "markdown",
      "metadata": {
        "id": "EputPeeZ8YrZ"
      },
      "source": [
        "# **Crea un arreglo con datos en un archivo**\n",
        "Numpy permite al usario crear arreglos a partir de los contenidos de un archivo."
      ]
    },
    {
      "cell_type": "markdown",
      "metadata": {
        "id": "hiMM8pI2HC_w"
      },
      "source": [
        "Paso 1: Revisa el acceso a la ruta del archivo a ser leído"
      ]
    },
    {
      "cell_type": "code",
      "metadata": {
        "id": "hoiB-muKD-pO"
      },
      "source": [
        "!cat /content/cloned-repo/chordProgressions.csv\n"
      ],
      "execution_count": null,
      "outputs": []
    },
    {
      "cell_type": "markdown",
      "metadata": {
        "id": "qEQPH1wVHN0o"
      },
      "source": [
        "# **Importa genfromtxt**\n",
        "Usa genfromtxt para generar un arreglo de un archivo de texto.\n",
        "<br>\n",
        "\n",
        "Cuando lees datos de un documentos, necesitas específicar el tipo de datos. Usualmente los arreglos de Numpy son usados para números<br>\n",
        "<br>\n",
        "\n",
        "En el archivo chord-progressions.csv, existen datos enteros y strings. Para convertir el archivo en un arreglo numpy, debes específicar el tipo de dato para cada columna\n",
        "<br>\n",
        "i1 = entero<br>\n",
        "S20 = string<br>\n",
        "skip_header ignorará el renglón de encabezados<br> "
      ]
    },
    {
      "cell_type": "code",
      "metadata": {
        "id": "nl6E78Xb9OtV"
      },
      "source": [
        "from numpy import genfromtxt\n",
        "chords = genfromtxt(\"/content/cloned-repo/chordProgressions.csv\",  \n",
        "                    delimiter=',',skip_header=1, dtype=[('1st chord','i1'),('2nd chord','i1') , ('3rd chord','i1'),\n",
        "                                          ('4th chord','i1'), ('Progression Quality', 'U20')])"
      ],
      "execution_count": null,
      "outputs": []
    },
    {
      "cell_type": "code",
      "metadata": {
        "id": "IdxSlpewHdWP"
      },
      "source": [
        "print(chords)"
      ],
      "execution_count": null,
      "outputs": []
    },
    {
      "cell_type": "code",
      "metadata": {
        "id": "_-zAKKcmIq5E"
      },
      "source": [
        "print(chords.shape)\n",
        "cReshape = chords.reshape(28,1)\n",
        "print(cReshape)"
      ],
      "execution_count": null,
      "outputs": []
    },
    {
      "cell_type": "markdown",
      "metadata": {
        "id": "0ASN-roijOBN"
      },
      "source": [
        "# **Actividad #6**\n",
        "1. Lee el archivo /content/cloned-repo/airtravel.csv\n",
        "2. Ignora el renglón de encabezados\n",
        "3. Crea un arreglo con los datos\n",
        "4. Convierte los meses en números (JAN = 1,FEB=2, ...Dec=12)\n",
        "\n",
        "Pista:<br><br>\n",
        "Asegurate de entender qe valor está almacenado en el arreglo<br>\n",
        "print(\"airtravel[0][0] = \",airtravel[0][0])\n",
        "\n",
        "\n",
        "[numpy.genfromtxt](https://docs.scipy.org/doc/numpy/reference/generated/numpy.genfromtxt.html)\n"
      ]
    },
    {
      "cell_type": "code",
      "metadata": {
        "id": "L9yysq11-gtB"
      },
      "source": [],
      "execution_count": null,
      "outputs": []
    },
    {
      "cell_type": "markdown",
      "metadata": {
        "id": "QxVNqaYREv7g"
      },
      "source": [
        "# **Operaciones aritméticas**\n",
        "Numpy puede realizar operaciones aritméticas con arreglos de forma sencilla.\n",
        "La forma para las operaciones arimrtméticas son:\n",
        ">np.operation(arreglo1, arreglo2)<br>\n",
        "\n",
        "Las operaciones disponibles son: <br>\n",
        ">suma (add)<br>\n",
        ">recta (substract)<br>\n",
        ">multiplicación (multiply)<br>\n",
        ">división (divide)<br>\n"
      ]
    },
    {
      "cell_type": "code",
      "metadata": {
        "id": "SEzDC1rXGWJF"
      },
      "source": [
        "#Operaciones aritméticas\n",
        "array1 = np.arange(9).reshape(3,3)\n",
        "print(\"Arreglo 1 = \\n\", array1)\n",
        "\n",
        "array2 = np.arange(4,13).reshape(3,3)\n",
        "print(\"Arreglo 2 = \\n\", array2)"
      ],
      "execution_count": null,
      "outputs": []
    },
    {
      "cell_type": "code",
      "metadata": {
        "id": "h0J_E2lxG5ij"
      },
      "source": [
        "sum = np.add(array1, array2)\n",
        "print(sum)"
      ],
      "execution_count": null,
      "outputs": []
    },
    {
      "cell_type": "markdown",
      "metadata": {
        "id": "RgIkzmE4HDxk"
      },
      "source": [
        "# **Actividad 7**\n",
        "1. Crea dos arreglos de 5x5\n",
        "2. Multiplicalos, \n",
        "3. Resta uno del otro\n",
        "4. Divide uno entre el otro. \n"
      ]
    },
    {
      "cell_type": "code",
      "metadata": {
        "id": "T6xkCiQgHYuK"
      },
      "source": [
        "#Actividad #7"
      ],
      "execution_count": null,
      "outputs": []
    },
    {
      "cell_type": "markdown",
      "metadata": {
        "id": "j9oXtUe3IWWl"
      },
      "source": [
        "**Producto punto**<br>\n",
        ">a · b = ax × bx + ay × by<br>\n",
        "\n",
        "Para más de dos dimensiones....<br>\n",
        ">a · b = ax × bx + ay × by + az × bz<br>"
      ]
    },
    {
      "cell_type": "code",
      "metadata": {
        "id": "jFTEFoicIWmR"
      },
      "source": [
        "v = np.array([9,10])\n",
        "w = np.array([11, 12])\n",
        "\n",
        "# Producto interno de los vectores; ambos dan 219\n",
        "print(v.dot(w))\n",
        "print(np.dot(v, w))"
      ],
      "execution_count": null,
      "outputs": []
    },
    {
      "cell_type": "markdown",
      "metadata": {
        "id": "add4G-VOKnwW"
      },
      "source": [
        "\n",
        "Si estás interesado en aprender más respecto a funciones de algebra linear, revisa este enlance: <br>\n",
        "https://docs.scipy.org/doc/numpy/reference/routines.linalg.html\n"
      ]
    },
    {
      "cell_type": "markdown",
      "metadata": {
        "id": "5YLxJ0EzJ-aQ"
      },
      "source": [
        "Encuentra el producto punto de:<br>\n",
        "[22,33,44] [11,22,33]"
      ]
    },
    {
      "cell_type": "code",
      "metadata": {
        "id": "sWdQxUkUJ4P8"
      },
      "source": [],
      "execution_count": null,
      "outputs": []
    },
    {
      "cell_type": "markdown",
      "metadata": {
        "id": "fvvNxyK1HrXl"
      },
      "source": [
        "# **Ordenando arreglos**\n",
        "\n",
        "Numpy tiene una función de ordenamiento integrada. <br>\n",
        "Tiene la forma: \n",
        ">np.sort(array name)\n"
      ]
    },
    {
      "cell_type": "code",
      "metadata": {
        "id": "8Qaj2IpVIZpy"
      },
      "source": [
        "#Ordenando arreglos\n",
        "array1 = np.array([[6,3,1,2], [9,11,6,5], [6,4,7,0]])\n",
        "print(array1)"
      ],
      "execution_count": null,
      "outputs": []
    },
    {
      "cell_type": "code",
      "metadata": {
        "id": "r28_Q9bqI2zs"
      },
      "source": [
        "#Ordena las columnas\n",
        "array_sorted = np.sort(array1, axis=0)\n",
        "print(array_sorted)"
      ],
      "execution_count": null,
      "outputs": []
    },
    {
      "cell_type": "code",
      "metadata": {
        "id": "K7uNgjpKJvV6"
      },
      "source": [
        "#Ordena los renglones\n",
        "array_sorted = np.sort(array1, axis=1)\n",
        "print(array_sorted)"
      ],
      "execution_count": null,
      "outputs": []
    },
    {
      "cell_type": "markdown",
      "metadata": {
        "id": "I96A8sTEJ1sT"
      },
      "source": [
        "# **Actividad #8**\n",
        "1. Crea un arreglo con los siguientes valores: <br>\n",
        ">[4,8,1,0,99]\n",
        ">[1,22,0,76,43]\n",
        ">[7,7,90,54,3]\n",
        "\n",
        "2. Ordena en torno de eje x\n",
        "3. Ordena en torno a el eje y\n"
      ]
    },
    {
      "cell_type": "code",
      "metadata": {
        "id": "FvCMekCtKU-U"
      },
      "source": [
        "#Actividad 8"
      ],
      "execution_count": null,
      "outputs": []
    },
    {
      "cell_type": "markdown",
      "metadata": {
        "id": "IZOIPtXnKbd2"
      },
      "source": [
        "**Texto en arreglos de numpy:**  Numpy también puede ordenar texto. \n"
      ]
    },
    {
      "cell_type": "code",
      "metadata": {
        "id": "Gs4d6EI3KpyW"
      },
      "source": [
        "array1 = np.array([['w','c'], ['z','f']])\n",
        "print(array1)\n",
        "print(np.sort(array1,axis=1))"
      ],
      "execution_count": null,
      "outputs": []
    },
    {
      "cell_type": "markdown",
      "metadata": {
        "id": "50XyWat3LXGe"
      },
      "source": [
        "# **Actividad #9**\n",
        "1. Crea un arreglo con los siguientes valores: \n",
        ">['dog','fish','cat']<br>\n",
        "['zebra', 'mouse', 'ox']<br>\n",
        "\n",
        "2. Ordena en el eje x\n",
        "3. Ordena en el eje y\n"
      ]
    },
    {
      "cell_type": "code",
      "metadata": {
        "id": "ZlreKmuL9yob"
      },
      "source": [],
      "execution_count": null,
      "outputs": []
    },
    {
      "cell_type": "markdown",
      "metadata": {
        "id": "rVMMGeBhL7Ud"
      },
      "source": [
        "**Ordena un arreglo basado en un parámetro**<br>\n",
        " Un arreglo de numpy puede ser creado con nombres de parametro y tipos identificados<br>\n",
        "\n",
        "Entonces el arreglo puede ser ordenado basado en el nombre del parámetro. <br>\n",
        "<br>\n",
        "Paso 1: Crea un arreglos con el nombre de los parametros y los tipos.\n",
        "\n",
        "Paso 2: Ordena el arreglo de la siguiente manera:<br>\n",
        ">np.sort(nombre del arreglo, order = 'nombre del parámetro')\n"
      ]
    },
    {
      "cell_type": "code",
      "metadata": {
        "id": "eUjBs9ENK_oc"
      },
      "source": [
        "#Ordenando arreglos por nombre de parametro\n",
        "#Paso 1: Crea un arreglos con el nombre de los parametros y los tipos.\n",
        "dt = np.dtype([('name', 'S10'), ('zipcode', int)])\n",
        "array1 = np.array([('Joe', 95120), ('Mark', 95122), ('Sue', 90210)], dtype=dt)\n",
        "print(array1)\n",
        "\n",
        "#The b in the output is for bytestrings"
      ],
      "execution_count": null,
      "outputs": []
    },
    {
      "cell_type": "code",
      "metadata": {
        "id": "MVR0VYMKOJpG"
      },
      "source": [
        "#Paso 2: ordena el arreglo por el nombre del parámetro\n",
        "print(np.sort(array1, order='zipcode'))\n",
        "print(np.sort(array1, order='name'))"
      ],
      "execution_count": null,
      "outputs": []
    },
    {
      "cell_type": "markdown",
      "metadata": {
        "id": "WzOP5wKhOyt-"
      },
      "source": [
        "# **Actividad #10**\n",
        "1. Crea un arreglo de 10 estudiantes con la siguiente información:\n",
        ">nombre de estudiante, ID de estudiante, carrera, GPA<br>\n",
        "For example: <br>\n",
        "> >'Bill', 453221, 'CompSci', 2.3\n",
        "\n",
        "2. Ordena el arreglo por cada una de las características (name, ID, major, GPA)\n"
      ]
    },
    {
      "cell_type": "code",
      "source": [],
      "metadata": {
        "id": "L4EO3co6jTGp"
      },
      "execution_count": null,
      "outputs": []
    },
    {
      "cell_type": "markdown",
      "metadata": {
        "id": "w6WvZRfFtj6p"
      },
      "source": [
        "# **Numpy y MatPlotLib**\n",
        "\n",
        "\n",
        "Puedes usar Matplotlib con arreglos de Numpy."
      ]
    },
    {
      "cell_type": "code",
      "metadata": {
        "id": "f8X5KMHltiAr"
      },
      "source": [
        "import matplotlib.pyplot as plt\n",
        "\n",
        "# tiempo muestreado en intervalos de 200 ms\n",
        "t = np.arange(0., 5., 0.2)\n",
        "\n",
        "# rayas rojas, cuadrados azules y triangulos verdes\n",
        "plt.plot(t, t, 'r--', t, t**2, 'bs', t, t**3, 'g^')\n",
        "plt.show()"
      ],
      "execution_count": null,
      "outputs": []
    },
    {
      "cell_type": "markdown",
      "metadata": {
        "id": "M8AMmaFAQXO2"
      },
      "source": [
        "# **Actividad #11**\n",
        "1. Crea un arrego con los siguientes valores: <br>\n",
        ">[22,87,5,43,56,73,55,54,11,20,51,5,79,31,27]\n",
        "2. Grafica el arreglo usando una linea azul\n",
        "3. Grafica el cuadrado del arreglo usando cuadrados rojos\n",
        "4. Grafica el cubo del arreglo usando rayas verdes"
      ]
    },
    {
      "cell_type": "code",
      "metadata": {
        "id": "Mcp0_6CNYgsZ"
      },
      "source": [],
      "execution_count": null,
      "outputs": []
    },
    {
      "cell_type": "markdown",
      "metadata": {
        "id": "yCgSDskqZi_p"
      },
      "source": [
        "**Matplotlib puede ser usado para hacer gráficos de dispersión**<br>\n",
        "Usa el link [numpy.random.randint](https://docs.scipy.org/doc/numpy-1.15.1/reference/generated/numpy.random.randint.html)"
      ]
    },
    {
      "cell_type": "code",
      "metadata": {
        "id": "rhXS0MgQtqPZ"
      },
      "source": [
        "#Crea arreglos y agregalos al grafico de dispersion\n",
        "#Para este ejemplo, se usan generadores de numeros aleatorios\n",
        "data = {'a': np.arange(50),\n",
        "        'c': np.random.randint(0, 50, 50),\n",
        "        'd': np.random.randn(50)}\n",
        "data['b'] = data['a'] + 10 * np.random.randn(50)\n",
        "data['d'] = np.abs(data['d']) * 100\n",
        "\n",
        "plt.scatter('a', 'b', c='c', s='d', data=data)\n",
        "plt.xlabel('entry a')\n",
        "plt.ylabel('entry b')\n",
        "plt.show()"
      ],
      "execution_count": null,
      "outputs": []
    },
    {
      "cell_type": "markdown",
      "metadata": {
        "id": "UVLJW2zDaB_a"
      },
      "source": [
        "# **Assignment #12**\n",
        "1. Crea cuatro arreglos de Numpy \n",
        "2. Agregalos al scatterplot"
      ]
    },
    {
      "cell_type": "markdown",
      "metadata": {
        "id": "ajpa8lpfa2na"
      },
      "source": [
        "# **Ejemplos adicionales usando Matplotlib**\n",
        "**Opcional**<br>\n",
        "Esta sección es opcional. \n",
        "\n",
        "Disfruta creando diferentes gráficos y experimentando con Matplotlib"
      ]
    },
    {
      "cell_type": "code",
      "metadata": {
        "id": "olnMJzi8t2wI"
      },
      "source": [
        "def f(t):\n",
        "    return np.exp(-t) * np.cos(2*np.pi*t)\n",
        "\n",
        "t1 = np.arange(0.0, 5.0, 0.1)\n",
        "t2 = np.arange(0.0, 5.0, 0.02)\n",
        "\n",
        "plt.figure()\n",
        "plt.subplot(211)\n",
        "plt.plot(t1, f(t1), 'bo', t2, f(t2), 'k')\n",
        "\n",
        "plt.subplot(212)\n",
        "plt.plot(t2, np.cos(2*np.pi*t2), 'r--')\n",
        "plt.show()"
      ],
      "execution_count": null,
      "outputs": []
    },
    {
      "cell_type": "code",
      "metadata": {
        "id": "B1KICEpZ9PAZ"
      },
      "source": [
        "#https://matplotlib.org/gallery/lines_bars_and_markers/bar_stacked.html#sphx-glr-gallery-lines-bars-and-markers-bar-stacked-pynumpytut\n",
        "\n",
        "N = 5\n",
        "menMeans = (20, 35, 30, 35, 27)\n",
        "womenMeans = (25, 32, 34, 20, 25)\n",
        "menStd = (2, 3, 4, 1, 2)\n",
        "womenStd = (3, 5, 2, 3, 3)\n",
        "ind = np.arange(N)    # las locaciones de x para los grupos\n",
        "width = 0.35       # la anchura de las barras: también puede ser len(x) \n",
        "p1 = plt.bar(ind, menMeans, width, yerr=menStd)\n",
        "p2 = plt.bar(ind, womenMeans, width,\n",
        "             bottom=menMeans, yerr=womenStd)\n",
        "\n",
        "plt.ylabel('Scores')\n",
        "plt.title('Scores by group and gender')\n",
        "plt.xticks(ind, ('G1', 'G2', 'G3', 'G4', 'G5'))\n",
        "plt.yticks(np.arange(0, 81, 10))\n",
        "plt.legend((p1[0], p2[0]), ('Men', 'Women'))\n",
        "\n",
        "plt.show()"
      ],
      "execution_count": null,
      "outputs": []
    },
    {
      "cell_type": "code",
      "metadata": {
        "id": "qXkJnqb_8uTF"
      },
      "source": [
        "#https://matplotlib.org/gallery/pie_and_polar_charts/polar_bar.html#sphx-glr-gallery-pie-and-polar-charts-polar-bar-py\n",
        "\n",
        "# Ajustando la semilla para permitir la replicabilidad\n",
        "np.random.seed(19680801)\n",
        "\n",
        "# Calcula las partes del grafico de pie\n",
        "N = 20\n",
        "theta = np.linspace(0.0, 2 * np.pi, N, endpoint=False)\n",
        "radii = 10 * np.random.rand(N)\n",
        "width = np.pi / 4 * np.random.rand(N)\n",
        "colors = plt.cm.viridis(radii / 10.)\n",
        "\n",
        "ax = plt.subplot(111, projection='polar')\n",
        "ax.bar(theta, radii, width=width, bottom=0.0, color=colors, alpha=0.5)\n",
        "\n",
        "plt.show()"
      ],
      "execution_count": null,
      "outputs": []
    }
  ]
}